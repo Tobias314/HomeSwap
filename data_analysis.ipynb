{
 "cells": [
  {
   "cell_type": "code",
   "execution_count": 4,
   "id": "43d88451-0678-477a-bdfc-04433cca4cab",
   "metadata": {},
   "outputs": [],
   "source": [
    "import pandas as pd\n",
    "import numpy as np\n",
    "import networkx as nx"
   ]
  },
  {
   "cell_type": "code",
   "execution_count": 24,
   "id": "ccd62874-8eff-4512-9403-b266fbd68181",
   "metadata": {},
   "outputs": [],
   "source": [
    "data = pd.read_json('scraping/data.json')\n",
    "data.loc[data.pref_max_price == '', 'pref_max_price'] = float('inf')\n",
    "data.pref_max_price = data.pref_max_price.astype(float)"
   ]
  },
  {
   "cell_type": "code",
   "execution_count": 30,
   "id": "8505ec70-5e1c-4568-8162-ece92f036a82",
   "metadata": {},
   "outputs": [],
   "source": [
    "data_full = data.merge(data, how='cross')"
   ]
  },
  {
   "cell_type": "code",
   "execution_count": 31,
   "id": "885739fe-6be5-450c-9722-bef208578422",
   "metadata": {},
   "outputs": [],
   "source": [
    "data_filtered = data_full[(data_full.offer_price_y<=data_full.pref_max_price_x) & \n",
    "                          (data_full.offer_size_y>=data_full.pref_min_size_x) &\n",
    "                          (data_full.offer_rooms_y<=data_full.pref_min_rooms_x)]"
   ]
  },
  {
   "cell_type": "code",
   "execution_count": 36,
   "id": "bfd8a83d-84f2-40a8-b07d-7e5ad8ec0e6f",
   "metadata": {},
   "outputs": [],
   "source": [
    "edge_list = []\n",
    "for i, row in data_filtered.iterrows():\n",
    "    edge_list.append((row.ID_x, row.ID_y))\n",
    "g = nx.DiGraph()\n",
    "g.add_edges_from(edge_list)"
   ]
  },
  {
   "cell_type": "code",
   "execution_count": null,
   "id": "29bda260-2048-4a02-9e51-8541b0a0f258",
   "metadata": {},
   "outputs": [],
   "source": [
    "%%time\n",
    "cycles = list(nx.simple_cycles(g))"
   ]
  },
  {
   "cell_type": "code",
   "execution_count": 40,
   "id": "4741ef7d-093b-46db-bef0-34e17c572027",
   "metadata": {},
   "outputs": [
    {
     "data": {
      "text/plain": [
       "<generator object simple_cycles at 0x721958247cd0>"
      ]
     },
     "execution_count": 40,
     "metadata": {},
     "output_type": "execute_result"
    }
   ],
   "source": [
    "cycles"
   ]
  }
 ],
 "metadata": {
  "kernelspec": {
   "display_name": "Python 3 (ipykernel)",
   "language": "python",
   "name": "python3"
  },
  "language_info": {
   "codemirror_mode": {
    "name": "ipython",
    "version": 3
   },
   "file_extension": ".py",
   "mimetype": "text/x-python",
   "name": "python",
   "nbconvert_exporter": "python",
   "pygments_lexer": "ipython3",
   "version": "3.11.8"
  }
 },
 "nbformat": 4,
 "nbformat_minor": 5
}
