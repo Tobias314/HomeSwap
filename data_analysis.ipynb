{
 "cells": [
  {
   "cell_type": "code",
   "execution_count": 1,
   "id": "43d88451-0678-477a-bdfc-04433cca4cab",
   "metadata": {},
   "outputs": [],
   "source": [
    "import pandas as pd\n",
    "import numpy as np\n",
    "import networkx as nx"
   ]
  },
  {
   "cell_type": "code",
   "execution_count": 135,
   "id": "ccd62874-8eff-4512-9403-b266fbd68181",
   "metadata": {},
   "outputs": [],
   "source": [
    "data = pd.read_json('scraping/data.json')\n",
    "data.loc[data.pref_max_price == '', 'pref_max_price'] = float('inf')\n",
    "data.pref_max_price = data.pref_max_price.astype(float)"
   ]
  },
  {
   "cell_type": "code",
   "execution_count": 136,
   "id": "8505ec70-5e1c-4568-8162-ece92f036a82",
   "metadata": {},
   "outputs": [],
   "source": [
    "data_full = data.merge(data, how='cross')"
   ]
  },
  {
   "cell_type": "code",
   "execution_count": 137,
   "id": "885739fe-6be5-450c-9722-bef208578422",
   "metadata": {},
   "outputs": [],
   "source": [
    "data_filtered = data_full[(data_full.offer_price_y<=data_full.pref_max_price_x) & \n",
    "                          (data_full.offer_size_y>=data_full.pref_min_size_x) &\n",
    "                          (data_full.offer_rooms_y<=data_full.pref_min_rooms_x) & \n",
    "                          (data_full.ID_x != data_full.ID_y)]"
   ]
  },
  {
   "cell_type": "code",
   "execution_count": 183,
   "id": "bfd8a83d-84f2-40a8-b07d-7e5ad8ec0e6f",
   "metadata": {},
   "outputs": [],
   "source": [
    "edge_list = []\n",
    "for i, row in data_filtered.iterrows():\n",
    "    edge_list.append((row.ID_x, row.ID_y, {'weight':1}))\n",
    "g = nx.DiGraph()\n",
    "g.add_edges_from(edge_list)"
   ]
  },
  {
   "cell_type": "code",
   "execution_count": 86,
   "id": "99f1a334-0e57-451f-be90-6d5acdae975a",
   "metadata": {},
   "outputs": [
    {
     "name": "stdout",
     "output_type": "stream",
     "text": [
      "bound 1\n",
      "0\n",
      "bound 2\n",
      "2965\n"
     ]
    }
   ],
   "source": [
    "for i in range(1, 3):\n",
    "    cycles = list(nx.simple_cycles(g, length_bound=i))\n",
    "    print('bound', i)\n",
    "    print(len(cycles))"
   ]
  },
  {
   "cell_type": "code",
   "execution_count": 181,
   "id": "cd6397f4-a277-44f4-a003-0d9c739c6329",
   "metadata": {},
   "outputs": [
    {
     "data": {
      "text/plain": [
       "316"
      ]
     },
     "execution_count": 181,
     "metadata": {},
     "output_type": "execute_result"
    }
   ],
   "source": [
    "g_undirected = g.to_undirected(reciprocal=True)\n",
    "match = nx.max_weight_matching(g_undirected)\n",
    "res_k2 = []\n",
    "for u,v in match:\n",
    "    res_k2.extend([u,v])\n",
    "res_k2 = set(res_k2)\n",
    "len(res_k2)"
   ]
  },
  {
   "cell_type": "code",
   "execution_count": 192,
   "id": "f9951abb-a050-4f90-b3e7-98c530757490",
   "metadata": {},
   "outputs": [
    {
     "data": {
      "text/plain": [
       "(164299, 184443)"
      ]
     },
     "execution_count": 192,
     "metadata": {},
     "output_type": "execute_result"
    }
   ],
   "source": [
    "list(g.edges)[0]"
   ]
  },
  {
   "cell_type": "code",
   "execution_count": null,
   "id": "3998caa2-2d09-4701-8b2b-3a1cfa2e55b1",
   "metadata": {},
   "outputs": [],
   "source": []
  },
  {
   "cell_type": "code",
   "execution_count": 195,
   "id": "2385f1eb-e518-409a-abdd-f48edc6076ce",
   "metadata": {},
   "outputs": [
    {
     "data": {
      "text/plain": [
       "1"
      ]
     },
     "execution_count": 195,
     "metadata": {},
     "output_type": "execute_result"
    }
   ],
   "source": [
    "g[164299][184443]['weight']"
   ]
  },
  {
   "cell_type": "code",
   "execution_count": 178,
   "id": "398e15c7-0a56-437a-89a9-b3b62b8a2f3e",
   "metadata": {},
   "outputs": [],
   "source": [
    "edge_list = []\n",
    "for i, row in data_filtered.iterrows():\n",
    "    #if row.ID_x not in res_k2 and row.ID_y not in res_k2:\n",
    "    edge_list.append((row.ID_x, row.ID_y))\n",
    "g2 = nx.DiGraph()\n",
    "g2.add_edges_from(edge_list)"
   ]
  },
  {
   "cell_type": "code",
   "execution_count": 176,
   "id": "54f0af10-4891-4ba2-a6c3-4fda24ff2074",
   "metadata": {},
   "outputs": [
    {
     "data": {
      "text/plain": [
       "[1, 2, 3]"
      ]
     },
     "execution_count": 176,
     "metadata": {},
     "output_type": "execute_result"
    }
   ],
   "source": [
    "sorted([2,1,3])"
   ]
  },
  {
   "cell_type": "code",
   "execution_count": 179,
   "id": "114544f1-741e-47ad-a2ac-4e787596bfb8",
   "metadata": {},
   "outputs": [
    {
     "name": "stdout",
     "output_type": "stream",
     "text": [
      "4\n",
      "332\n"
     ]
    }
   ],
   "source": [
    "the_g = g2\n",
    "for i in range(4, 5):\n",
    "    print(i)\n",
    "    while True:\n",
    "        cycles = list(nx.simple_cycles(the_g, length_bound=i))\n",
    "        if len(cycles) == 0:\n",
    "            break\n",
    "        visited_nodes = set()\n",
    "        for c in sorted(cycles, key=len, reverse=True):\n",
    "            if not any([v in visited_nodes for v in c]):\n",
    "                visited_nodes.update(c)\n",
    "        print(len(visited_nodes))\n",
    "        the_g.remove_nodes_from(visited_nodes)\n",
    "        break"
   ]
  },
  {
   "cell_type": "code",
   "execution_count": null,
   "id": "5e91588d-14e2-4c0f-b8da-191b2517367d",
   "metadata": {},
   "outputs": [],
   "source": [
    "for k in range(3, 5):\n",
    "    print('k', k)\n",
    "    for v in g2.nodes():\n",
    "        try:\n",
    "            c = nx.find_cycle(g2, source=v, orientation='original')\n",
    "        except nx.NetworkXNoCycle:\n",
    "            continue\n",
    "        print(c)\n",
    "        print(len(c))"
   ]
  },
  {
   "cell_type": "code",
   "execution_count": 67,
   "id": "29bda260-2048-4a02-9e51-8541b0a0f258",
   "metadata": {},
   "outputs": [
    {
     "name": "stdout",
     "output_type": "stream",
     "text": [
      "bound 1\n",
      "0\n",
      "bound 2\n",
      "0\n",
      "bound 3\n",
      "53\n",
      "bound 4\n",
      "123\n"
     ]
    }
   ],
   "source": [
    "for i in range(1, 5):\n",
    "    cycles = list(nx.simple_cycles(g2, length_bound=i))\n",
    "    print('bound', i)\n",
    "    cycle_nodes = set([x for xs in cycles for x in xs])\n",
    "    print(len(cycle_nodes))"
   ]
  }
 ],
 "metadata": {
  "kernelspec": {
   "display_name": "Python 3 (ipykernel)",
   "language": "python",
   "name": "python3"
  },
  "language_info": {
   "codemirror_mode": {
    "name": "ipython",
    "version": 3
   },
   "file_extension": ".py",
   "mimetype": "text/x-python",
   "name": "python",
   "nbconvert_exporter": "python",
   "pygments_lexer": "ipython3",
   "version": "3.11.8"
  }
 },
 "nbformat": 4,
 "nbformat_minor": 5
}
